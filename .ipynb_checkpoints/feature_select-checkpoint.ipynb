{
 "cells": [
  {
   "cell_type": "code",
   "execution_count": 1,
   "id": "b5d45215",
   "metadata": {},
   "outputs": [],
   "source": [
    "import data_process as process\n",
    "import pandas as pd\n",
    "from sklearn.model_selection import train_test_split, cross_val_score\n",
    "from sklearn.ensemble import RandomForestRegressor\n",
    "from sklearn.metrics import r2_score"
   ]
  },
  {
   "cell_type": "code",
   "execution_count": 2,
   "id": "4e10c08f",
   "metadata": {},
   "outputs": [],
   "source": [
    "import warnings\n",
    "warnings.filterwarnings('ignore')"
   ]
  },
  {
   "cell_type": "code",
   "execution_count": null,
   "id": "6b4b3342",
   "metadata": {},
   "outputs": [
    {
     "name": "stdout",
     "output_type": "stream",
     "text": [
      "Data cleaning has completed\n"
     ]
    }
   ],
   "source": [
    "### Load the bids and payloads CSV files ###\n",
    "\n",
    "origin_bids_df = pd.read_csv(\"data/Eden_MEV-Boost_bid_20240404.csv\") # MEV-Boost bids data from Eden Public Data\n",
    "origin_payload_df = pd.read_csv(\"data/mev_blocks_19580000_to_19589999.csv\") # MEV-Boost Winning Bid Data\n",
    "\n",
    "# Check if matched_df already exists in the current namespace\n",
    "if 'matched_df' not in locals():\n",
    "    # Process the data if matched_df does not exist\n",
    "    bids_df, payload_df = process.cleaning(origin_bids_df, origin_payload_df)\n",
    "    bids_df, payload_df = process.transformation(bids_df, payload_df)\n",
    "    matched_df,  origin_matched_df = process.get_matched_df(bids_df, payload_df)\n",
    "    \n",
    "else:\n",
    "    print(\"matched_df already exists. Skipping processing steps.\")"
   ]
  },
  {
   "cell_type": "code",
   "execution_count": null,
   "id": "1073365d",
   "metadata": {},
   "outputs": [],
   "source": [
    "# List of parameter sets\n",
    "parameters1 = ['base_fee_per_gas', 'normalised_num_tx', 'normalised_value', \n",
    "              'gasUsedRatio','normalised_t_diff','time_difference_max',\n",
    "              'bids_count']\n",
    "parameters2 = ['base_fee_per_gas', 'num_tx', 'value', \n",
    "              'gasUsedRatio','time_difference','time_difference_max',\n",
    "              'bids_count']\n",
    "\n",
    "parameters = [parameters1, parameters2]\n",
    "\n",
    "results = {}"
   ]
  },
  {
   "cell_type": "code",
   "execution_count": null,
   "id": "dbbddcc6",
   "metadata": {},
   "outputs": [],
   "source": [
    "### Feature selection ###\n",
    "a = 1 # Initialised number of parameter sets\n",
    "for f in parameters:\n",
    "    for target in f:\n",
    "        \n",
    "        predictors = [p for p in f if p != target]\n",
    "        \n",
    "        X = matched_df[predictors]\n",
    "        y = matched_df[target]\n",
    "        \n",
    "        X_train, X_test, y_train, y_test = train_test_split(X, y, test_size=0.2, random_state=42)\n",
    "        \n",
    "        rf = RandomForestRegressor(\n",
    "            n_estimators=200,\n",
    "            max_depth=20,\n",
    "            min_samples_split=2,\n",
    "            min_samples_leaf=1,\n",
    "            random_state=42\n",
    "        )\n",
    "        \n",
    "        rf.fit(X_train, y_train)\n",
    "        \n",
    "        y_pred = rf.predict(X_test)\n",
    "        \n",
    "        r2 = r2_score(y_test, y_pred)\n",
    "    \n",
    "        cross_val_scores = cross_val_score(rf, X_train, y_train, cv=5, scoring='neg_mean_squared_error')\n",
    "        avg_cross_val_score = cross_val_scores.mean()\n",
    "    \n",
    "        results[target] = {\n",
    "            'r2_score': r2,\n",
    "            'cross_val_score': avg_cross_val_score\n",
    "        }\n",
    "        \n",
    "        print(f\"\\n({a}) Results for target variable '{target}':\")\n",
    "        print(f\"R squared error: {r2}\")\n",
    "        print(f\"Cross-Validation Score (Negative MSE): {avg_cross_val_score}\")\n",
    "    a = a + 1\n",
    "    \n",
    "    \n",
    "    print(\"\\nSummary of results:\")\n",
    "    for target, scores in results.items():\n",
    "        print(f\"Target variable '{target}': R squared error = {scores['r2_score']}, Cross-Validation Score = {scores['cross_val_score']}\")\n"
   ]
  }
 ],
 "metadata": {
  "kernelspec": {
   "display_name": "Python 3 (ipykernel)",
   "language": "python",
   "name": "python3"
  },
  "language_info": {
   "codemirror_mode": {
    "name": "ipython",
    "version": 3
   },
   "file_extension": ".py",
   "mimetype": "text/x-python",
   "name": "python",
   "nbconvert_exporter": "python",
   "pygments_lexer": "ipython3",
   "version": "3.11.7"
  }
 },
 "nbformat": 4,
 "nbformat_minor": 5
}
