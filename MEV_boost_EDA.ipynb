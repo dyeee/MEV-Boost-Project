{
 "cells": [
  {
   "cell_type": "code",
   "execution_count": 1,
   "id": "50ec3dc2",
   "metadata": {},
   "outputs": [],
   "source": [
    "import data_process as process\n",
    "import pandas as pd\n",
    "import matplotlib.pyplot as plt\n",
    "import seaborn as sns"
   ]
  },
  {
   "cell_type": "code",
   "execution_count": 2,
   "id": "a1915808",
   "metadata": {},
   "outputs": [],
   "source": [
    "import warnings\n",
    "warnings.filterwarnings('ignore')"
   ]
  },
  {
   "cell_type": "markdown",
   "id": "3b9bbc08",
   "metadata": {},
   "source": [
    "# Data Preprocessing"
   ]
  },
  {
   "cell_type": "code",
   "execution_count": null,
   "id": "3e70fb8e",
   "metadata": {},
   "outputs": [
    {
     "name": "stdout",
     "output_type": "stream",
     "text": [
      "Data cleaning has completed\n"
     ]
    }
   ],
   "source": [
    "### Load the bids and payloads CSV files ###\n",
    "\n",
    "origin_bids_df = pd.read_csv(\"data/Eden_MEV-Boost_bid_20240404.csv\") # MEV-Boost bids data from Eden Public Data\n",
    "origin_payload_df = pd.read_csv(\"data/mev_blocks_19580000_to_19589999.csv\") # MEV-Boost Winning Bid Data\n",
    "\n",
    "# Check if matched_df already exists in the current namespace\n",
    "if 'matched_df' not in locals():\n",
    "    # Process the data if matched_df does not exist\n",
    "    bids_df, payload_df = process.cleaning(origin_bids_df, origin_payload_df)\n",
    "    bids_df, payload_df = process.transformation(bids_df, payload_df)\n",
    "    matched_df, origin_matched_df = process.get_matched_df(bids_df, payload_df)\n",
    "    \n",
    "else:\n",
    "    print(\"matched_df already exists. Skipping processing steps.\")"
   ]
  },
  {
   "cell_type": "markdown",
   "id": "5c3e6aa6",
   "metadata": {},
   "source": [
    "# Duplicate Estimation"
   ]
  },
  {
   "cell_type": "code",
   "execution_count": null,
   "id": "46c842b5",
   "metadata": {},
   "outputs": [],
   "source": [
    "def plot_duplicate(df, title):\n",
    "    block_hash_counts = df['block_hash'].value_counts()\n",
    "\n",
    "    block_hash_counts_df = block_hash_counts.reset_index()\n",
    "    block_hash_counts_df.columns = ['block_hash', 'count']\n",
    "    \n",
    "    distinct_block_hash = df['block_hash'].nunique()\n",
    "    print(f\"Distinct_block_hashs: {distinct_block_hash} in {title}'\")\n",
    "    \n",
    "    mean_count = block_hash_counts_df['count'].mean()\n",
    "    \n",
    "    plt.figure(figsize=(12, 8))\n",
    "    sns.histplot(block_hash_counts_df['count'], kde=False, bins=range(1, block_hash_counts_df['count'].max() + 1), color='skyblue', edgecolor='black')\n",
    "    \n",
    "\n",
    "    plt.title(f'Density Distribution of block_hash in {title}', fontsize=16)\n",
    "    plt.xlabel('Count', fontsize=14)\n",
    "    plt.ylabel('Density', fontsize=14)\n",
    "    plt.xlim(0, 10)\n",
    "    plt.xticks(fontsize=12)\n",
    "    plt.yticks(fontsize=12)\n",
    "    plt.grid(True, linestyle='--', alpha=0.7)\n",
    "    \n",
    "    plt.text(0.5, 0.9, f'Mean: {mean_count:.2f}', horizontalalignment='center', \n",
    "             verticalalignment='center', transform=plt.gca().transAxes) # mean\n",
    "    \n",
    "    plt.savefig(f'graphs/Duplicates of block_hash in {title}.png')\n",
    "    plt.show()"
   ]
  },
  {
   "cell_type": "code",
   "execution_count": null,
   "id": "d68ad987",
   "metadata": {},
   "outputs": [],
   "source": [
    "# Plot and display statistics for bids and payload data\n",
    "plot_duplicate(origin_bids_df, 'All bids')#\n",
    "plot_duplicate(origin_matched_df, 'Winner bids')#"
   ]
  },
  {
   "cell_type": "markdown",
   "id": "d769b90c",
   "metadata": {},
   "source": [
    "# EDA Visualisation"
   ]
  },
  {
   "cell_type": "code",
   "execution_count": null,
   "id": "f270254e",
   "metadata": {},
   "outputs": [],
   "source": [
    "### Remove outliers ###\n",
    "def remove_outliers(df, column):\n",
    "    Q1 = df[column].quantile(0.25)\n",
    "    Q3 = df[column].quantile(0.75)\n",
    "    IQR = Q3 - Q1\n",
    "    lower_bound = Q1 - 1.5 * IQR\n",
    "    upper_bound = Q3 + 1.5 * IQR\n",
    "    filtered_df = df[(df[column] >= lower_bound) & (df[column] <= upper_bound)]\n",
    "    return filtered_df"
   ]
  },
  {
   "cell_type": "code",
   "execution_count": null,
   "id": "5e0deb3d",
   "metadata": {},
   "outputs": [],
   "source": [
    "### Plot the distribution graph for a variable ###\n",
    "def sns_compare (name, df, v1, v2, v3, v4): # v is attribute name (str)\n",
    "    df1 = remove_outliers(df, v1) # remove outliers\n",
    "    df2 = remove_outliers(df, v2)\n",
    "    df3 = remove_outliers(df, v3)\n",
    "    df4 = remove_outliers(df, v4)\n",
    "    \n",
    "    fig, axs = plt.subplots(2, 2, figsize=(12, 10))\n",
    "    plt.subplot(2, 2, 1)\n",
    "    sns.distplot(df1[v1], color='green')\n",
    "    plt.subplot(2, 2, 2)\n",
    "    sns.distplot(df2[v2], color='blue')\n",
    "    plt.subplot(2, 2, 3)\n",
    "    sns.distplot(df3[v3], color='orange')\n",
    "    plt.subplot(2, 2, 4)\n",
    "    sns.distplot(df4[v4], color='red')\n",
    "    plt.tight_layout()\n",
    "    plt.savefig(f'graphs/compare_{name} ({v1} {v2} {v3} {v4}) (no outlier).png')\n",
    "    plt.show()\n",
    "    \n",
    "def sns_outlier (name, df, v1, v2, v3, v4): # v is attribute name (str)\n",
    "    fig, axs = plt.subplots(2, 2, figsize=(12, 10))\n",
    "    plt.subplot(2, 2, 1)\n",
    "    sns.distplot(df[v1], color='green')\n",
    "    plt.subplot(2, 2, 2)\n",
    "    sns.distplot(df[v2], color='blue')\n",
    "    plt.subplot(2, 2, 3)\n",
    "    sns.distplot(df[v3], color='orange')\n",
    "    plt.subplot(2, 2, 4)\n",
    "    sns.distplot(df[v4], color='red')\n",
    "    plt.tight_layout()\n",
    "    plt.savefig(f'graphs/compare_{name} ({v1} {v2} {v3} {v4}).png')\n",
    "    plt.show()"
   ]
  },
  {
   "cell_type": "code",
   "execution_count": null,
   "id": "1e1e1da4",
   "metadata": {},
   "outputs": [],
   "source": [
    "### Compare 2 variables using scatter plot ###\n",
    "def scatter (df, v1, v2, colour, name=''):\n",
    "    a = df[v1]\n",
    "    b = df[v2]\n",
    "\n",
    "    plt.figure(figsize=(10, 6))\n",
    "    plt.scatter(a, b, alpha=0.3, color=colour)\n",
    "    plt.title(f'Scatter Plot of \"{v2}\" vs \"{v1}\"')\n",
    "    plt.xlabel(v1)\n",
    "    plt.ylabel(v2)\n",
    "    plt.grid(True)\n",
    "    plt.savefig(f'graphs/Scatter Plot of {name} {v2} vs {v1}.png')\n",
    "    plt.show()"
   ]
  },
  {
   "cell_type": "code",
   "execution_count": null,
   "id": "43a94dcf",
   "metadata": {},
   "outputs": [],
   "source": [
    "### Compare 3 variables using scatter plot ###\n",
    "def scatter3(x, y, z, name=['','',''], cmap = 'coolwarm'):\n",
    "    plt.figure(figsize=(10, 6))\n",
    "    \n",
    "    sc = plt.scatter(x, y, c=z, cmap = cmap, alpha=0.8)\n",
    "    plt.colorbar(sc, label=name[2])\n",
    "    \n",
    "    plt.title(f'Scatter Plot of {name[2]}, {name[1]}, and {name[0]}')\n",
    "    plt.xlabel(name[0])\n",
    "    plt.ylabel(name[1])\n",
    "    plt.grid(True)\n",
    "\n",
    "    plt.savefig(f'graphs/Scatter Plot of {name[2]}, {name[1]}, and {name[0]}.png')\n",
    "    plt.show()"
   ]
  },
  {
   "cell_type": "code",
   "execution_count": null,
   "id": "392fd2f9",
   "metadata": {},
   "outputs": [],
   "source": [
    "### Campare distribution of all bids and winners ###\n",
    "def dist_all_vs_win(v, colour, df1 = bids_df, df2 = matched_df):\n",
    "    df1 = remove_outliers(df1, v) # remove outliers\n",
    "    df2 = remove_outliers(df2, v)\n",
    "    \n",
    "    sns.distplot(df1[v],color=colour, label='All Bids')\n",
    "    sns.distplot(df2[v], color='orange', label='Winner Bids')\n",
    "    plt.legend()\n",
    "\n",
    "    plt.title(f'Distribution of \"{v}\" in All Bids and Winner Bids')\n",
    "    plt.savefig(f'graphs/Distribution of {v} in Bids and Winner Bids (no outlier).png')\n",
    "    plt.show()\n",
    "    \n",
    "def dist_outlier(v, colour, df1 = bids_df, df2 = matched_df):    \n",
    "    sns.distplot(df1[v],color=colour, label='All Bids')\n",
    "    sns.distplot(df2[v], color='orange', label='Winner Bids')\n",
    "    plt.legend()\n",
    "\n",
    "    plt.title(f'Distribution of \"{v}\" in All Bids and Winner Bids')\n",
    "    plt.savefig(f'graphs/Distribution of {v} in Bids and Winner Bids.png')\n",
    "    plt.show()"
   ]
  },
  {
   "cell_type": "code",
   "execution_count": null,
   "id": "de8af784",
   "metadata": {},
   "outputs": [],
   "source": [
    "### Density plot of 2 normalised variables ###\n",
    "def density(a, b, name=['',''], normalise = True):\n",
    "    if normalise:\n",
    "        clip_range = ((0, 1), (0, 1))\n",
    "    else:\n",
    "        clip_range = None\n",
    "        \n",
    "    sns.kdeplot(\n",
    "        x=a,\n",
    "        y=b,\n",
    "        cmap=\"Blues\",\n",
    "        fill=True,\n",
    "        thresh=0,\n",
    "        levels=100,\n",
    "        clip=(clip_range)\n",
    "    )\n",
    "    \n",
    "    sns.kdeplot(\n",
    "        x=a,\n",
    "        y=b,\n",
    "        color='black',\n",
    "        levels=10,\n",
    "        clip=(clip_range)\n",
    "    )\n",
    "    \n",
    "    plt.title(f'Density Plot of Winner Bids \"{name[1]}\" vs \"{name[0]}\"')\n",
    "    plt.xlabel(name[0])\n",
    "    plt.ylabel(name[1])\n",
    "    plt.grid(True)\n",
    "    plt.savefig(f'graphs/Density Plot of Winner Bids {name[1]} vs {name[0]}.png')\n",
    "    plt.show()"
   ]
  },
  {
   "cell_type": "code",
   "execution_count": null,
   "id": "77ccba2b",
   "metadata": {},
   "outputs": [],
   "source": [
    "### Plot correlation matrix ###\n",
    "def correlation_matrix(df, numeric_cols, title):\n",
    "\n",
    "    corr_matrix = df[numeric_cols].corr()\n",
    "\n",
    "    plt.figure(figsize=(15, 13))\n",
    "    sns.heatmap(corr_matrix, cmap='coolwarm', vmin=-1, vmax=1, annot=True, fmt=\".2f\")\n",
    "    plt.title(f'Correlation Matrix ({title})')\n",
    "    plt.savefig(f'graphs/Correlation ({title}).png')\n",
    "    plt.show()"
   ]
  },
  {
   "cell_type": "markdown",
   "id": "b6a6f587",
   "metadata": {},
   "source": [
    "# Plots"
   ]
  },
  {
   "cell_type": "code",
   "execution_count": null,
   "id": "22d7ecac",
   "metadata": {},
   "outputs": [],
   "source": [
    "sns_compare ('bids', bids_df, 'base_fee_per_gas', 'num_tx', 'value', 'time_difference')#\n",
    "sns_compare ('winner', matched_df, 'base_fee_per_gas', 'num_tx', 'value', 'time_difference')#\n",
    "sns_outlier ('bids', bids_df, 'base_fee_per_gas', 'num_tx', 'value', 'time_difference')#\n",
    "sns_outlier ('winner', matched_df, 'base_fee_per_gas', 'num_tx', 'value', 'time_difference')#\n",
    "\n",
    "sns_compare ('normalised_bids', bids_df, \n",
    "             'gasUsedRatio', 'normalised_num_tx', 'normalised_value', 'normalised_t_diff')#\n",
    "sns_compare ('normalised_winner', matched_df, \n",
    "             'gasUsedRatio', 'normalised_num_tx', 'normalised_value', 'normalised_t_diff')#\n",
    "sns_outlier ('normalised_bids', bids_df, \n",
    "             'gasUsedRatio', 'normalised_num_tx', 'normalised_value', 'normalised_t_diff')#\n",
    "sns_outlier ('normalised_winner', matched_df, \n",
    "             'gasUsedRatio', 'normalised_num_tx', 'normalised_value', 'normalised_t_diff')#"
   ]
  },
  {
   "cell_type": "code",
   "execution_count": null,
   "id": "89df94d3",
   "metadata": {},
   "outputs": [],
   "source": [
    "bids_df_filtered = bids_df[bids_df['time_difference'] <= 16]\n",
    "\n",
    "sns.distplot(bids_df_filtered['time_difference'],color='red', label='All Bids')\n",
    "sns.distplot(matched_df['time_difference'],color='orange', label = 'Winner Bids')\n",
    "plt.axvline(x=12, color='blue', linestyle='--', linewidth=2, label='x = 12')\n",
    "plt.legend()\n",
    "plt.xlim(0, 16)\n",
    "\n",
    "plt.title('Distribution of \"time_difference\" in all Bids and Winner Bids')\n",
    "plt.savefig('graphs/Distribution of time_difference in all Bids and Winner Bids.png')\n",
    "plt.show()#"
   ]
  },
  {
   "cell_type": "code",
   "execution_count": null,
   "id": "2b44e218",
   "metadata": {},
   "outputs": [],
   "source": [
    "dist_all_vs_win('normalised_num_tx', 'blue')#\n",
    "dist_outlier('normalised_num_tx', 'blue')#\n",
    "\n",
    "dist_all_vs_win('gasUsedRatio', 'green')#\n",
    "dist_outlier('gasUsedRatio', 'green')#\n",
    "\n",
    "dist_all_vs_win('value', 'brown')#\n",
    "dist_outlier('value', 'brown')#\n",
    "\n",
    "dist_all_vs_win('normalised_value', 'brown')#\n",
    "dist_outlier('normalised_value', 'brown')#\n",
    "\n",
    "dist_all_vs_win('time_difference_max', 'purple')#\n",
    "dist_outlier('time_difference_max', 'purple')#\n",
    "\n",
    "dist_all_vs_win('normalised_t_diff', 'magenta')#\n",
    "dist_outlier('normalised_t_diff', 'magenta')#"
   ]
  },
  {
   "cell_type": "code",
   "execution_count": null,
   "id": "f1863d41",
   "metadata": {},
   "outputs": [],
   "source": [
    "print(\"Statistics for matched_df['time_difference']:\")\n",
    "print(matched_df['time_difference'].describe())\n",
    "\n",
    "print(\"Statistics for bids_df['time_difference']:\")\n",
    "print(bids_df['time_difference'].describe())"
   ]
  },
  {
   "cell_type": "code",
   "execution_count": null,
   "id": "9cf48b66",
   "metadata": {},
   "outputs": [],
   "source": [
    "#\n",
    "sns.distplot(matched_df['value_max'],color='purple', label='Maximum Value of Block')\n",
    "sns.distplot(matched_df['value'],color='orange', label = 'Winner Bids Value')\n",
    "plt.legend()\n",
    "\n",
    "plt.title('Distribution of \"Maximum Value per Block\" in Bids and Winner Bids Value')\n",
    "plt.savefig('graphs/Distribution of Maximum Value per Block in Bids and Winner Bids Value.png')\n",
    "plt.show()#\n",
    "\n",
    "#\n",
    "df1 = remove_outliers(matched_df, 'value_max') # remove outlier\n",
    "df2 = remove_outliers(matched_df, 'value')\n",
    "sns.distplot(df1['value_max'],color='purple', label='Maximum Value of Block')\n",
    "sns.distplot(df2['value'],color='orange', label = 'Winner Bids Value')\n",
    "plt.legend()\n",
    "\n",
    "plt.title('Distribution of \"Maximum Value per Block\" in Bids and Winner Bids Value')\n",
    "plt.savefig('graphs/Distribution of Maximum Value per Block in Bids and Winner Bids Value (no outlier).png')\n",
    "plt.show()#"
   ]
  },
  {
   "cell_type": "code",
   "execution_count": null,
   "id": "6184ff52",
   "metadata": {},
   "outputs": [],
   "source": [
    "scatter (matched_df, 'num_tx', 'base_fee_per_gas', 'blue', 'Winner Bids')#\n",
    "scatter (matched_df, 'time_difference', 'block_number', 'blue', 'Winner Bids')#\n",
    "scatter (matched_df, 'normalised_t_diff', 'block_number', 'blue', 'Winner Bids')#\n",
    "scatter (matched_df, 'time_difference_max', 'block_number', 'green', 'Winner Bids')#\n",
    "scatter (matched_df, 'time_difference_max', 'bids_count', 'green', 'Winner Bids')#\n",
    "scatter (matched_df, 'time_difference_max', 'value', 'green', 'Winner Bids')#\n",
    "scatter (matched_df, 'time_difference_max', 'base_fee_per_gas', 'green', 'Winner Bids')#\n",
    "scatter (matched_df, 'time_difference_max', 'num_tx', 'green', 'Winner Bids')#\n",
    "\n",
    "scatter (matched_df, 'normalised_t_diff', 'time_difference_max', 'green', 'Winner Bids')#\n",
    "scatter (matched_df, 'normalised_t_diff', 'normalised_num_tx', 'blue', 'Winner Bids')#\n",
    "scatter (bids_df, 'normalised_t_diff', 'normalised_num_tx', 'red', 'All Bids')#\n",
    "scatter (matched_df, 'normalised_t_diff', 'normalised_value', 'blue', 'Winner Bids')#\n",
    "scatter (bids_df, 'normalised_t_diff', 'normalised_value', 'red', 'All Bids')#"
   ]
  },
  {
   "cell_type": "code",
   "execution_count": null,
   "id": "88afc50a",
   "metadata": {},
   "outputs": [],
   "source": [
    "block_number = matched_df['block_number']\n",
    "normalised_t_diff = matched_df['normalised_t_diff']\n",
    "value_diff = (matched_df['value_max'] - matched_df['value'])\n",
    "name = ['block_number', 'value_diff', 'normalised_t_diff']\n",
    "scatter3(block_number, normalised_t_diff, value_diff, name)#\n",
    "\n",
    "\n",
    "block_number = matched_df['block_number']\n",
    "normalised_t_diff = matched_df['normalised_t_diff']\n",
    "value_rank = matched_df['value_rank']\n",
    "name = ['block_number', 'normalised_t_diff', 'value_rank']\n",
    "scatter3(block_number, value_rank, normalised_t_diff, name)#\n",
    "\n",
    "\n",
    "block_number = matched_df['block_number']\n",
    "normalised_t_diff = matched_df['normalised_t_diff'] # also be use in density plot\n",
    "value_rank_percent = matched_df['value_rank_percent'] # also be use in density plot\n",
    "\n",
    "name = ['block_number', 'value_rank_percent', 'normalised_t_diff']\n",
    "scatter3(block_number, normalised_t_diff, value_rank_percent, name)#"
   ]
  },
  {
   "cell_type": "code",
   "execution_count": null,
   "id": "e49073fc",
   "metadata": {},
   "outputs": [],
   "source": [
    "density(value_rank_percent , normalised_t_diff, ['value_rank_percent','normalised_t_diff'], False)#\n",
    "\n",
    "normalised_value = matched_df['normalised_value']\n",
    "normalised_t_diff = matched_df['normalised_t_diff']\n",
    "density(normalised_value , normalised_t_diff, ['normalised_value','normalised_t_diff'])#"
   ]
  },
  {
   "cell_type": "code",
   "execution_count": null,
   "id": "a69d3b15",
   "metadata": {},
   "outputs": [],
   "source": [
    "numeric_cols1 = [\"time_difference\", \"normalised_t_diff\", \"time_difference_max\",\n",
    "                 \"normalised_value\", \"num_tx\", \"normalised_num_tx\", \"gasUsedRatio\", \n",
    "                 \"value\", \"bids_count\", \"base_fee_per_gas\"]\n",
    "correlation_matrix(bids_df, numeric_cols1, 'time_difference')#"
   ]
  },
  {
   "cell_type": "code",
   "execution_count": null,
   "id": "0cbf3383",
   "metadata": {},
   "outputs": [],
   "source": [
    "numeric_cols2 = [\"normalised_t_diff\", \"time_difference\", \"time_difference_max\", \n",
    "                 \"normalised_value\", \"num_tx\", \"normalised_num_tx\", \"gasUsedRatio\", \n",
    "                 \"value\", \"bids_count\", \"base_fee_per_gas\"]\n",
    "correlation_matrix(bids_df, numeric_cols2, 'normalised_t_diff')#"
   ]
  },
  {
   "cell_type": "code",
   "execution_count": null,
   "id": "4f928154",
   "metadata": {},
   "outputs": [],
   "source": [
    "numeric_cols3 = [\"time_difference_max\", \"normalised_t_diff\", \"time_difference\", \n",
    "                 \"normalised_value\", \"num_tx\", \"normalised_num_tx\", \"gasUsedRatio\", \n",
    "                 \"value\", \"bids_count\", \"base_fee_per_gas\"]\n",
    "correlation_matrix(bids_df, numeric_cols3, 'time_difference_max')#"
   ]
  }
 ],
 "metadata": {
  "kernelspec": {
   "display_name": "Python 3 (ipykernel)",
   "language": "python",
   "name": "python3"
  },
  "language_info": {
   "codemirror_mode": {
    "name": "ipython",
    "version": 3
   },
   "file_extension": ".py",
   "mimetype": "text/x-python",
   "name": "python",
   "nbconvert_exporter": "python",
   "pygments_lexer": "ipython3",
   "version": "3.11.7"
  }
 },
 "nbformat": 4,
 "nbformat_minor": 5
}
